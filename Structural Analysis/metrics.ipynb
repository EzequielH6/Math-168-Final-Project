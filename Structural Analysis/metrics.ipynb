{
 "cells": [
  {
   "cell_type": "code",
   "execution_count": 2,
   "metadata": {},
   "outputs": [],
   "source": [
    "import numpy as np \n",
    "import pandas as pd \n",
    "import networkx as nx\n",
    "import matplotlib.pyplot as plt"
   ]
  },
  {
   "cell_type": "code",
   "execution_count": 3,
   "metadata": {},
   "outputs": [],
   "source": [
    "file_paths = ['5G-Graphs/63/nodes.csv','5G-Graphs/99/nodes.csv','5G-Graphs/124/nodes.csv',\n",
    "              '5G-Graphs/144/nodes.csv','5G-Graphs/157/nodes.csv','5G-Graphs/176/nodes.csv',\n",
    "              '5G-Graphs/192/nodes.csv', '5G-Graphs/203/nodes.csv','5G-Graphs/205/nodes.csv',\n",
    "              '5G-Graphs/217/nodes.csv', '5G-Graphs/220/nodes.csv', '5G-Graphs/251/nodes.csv',\n",
    "              '5G-Graphs/256/nodes.csv', '5G-Graphs/270/nodes.csv', '5G-Graphs/275/nodes.csv',\n",
    "              '5G-Graphs/283/nodes.csv', '5G-Graphs/286/nodes.csv', '5G-Graphs/306/nodes.csv',\n",
    "              '5G-Graphs/308/nodes.csv', '5G-Graphs/313/nodes.csv', '5G-Graphs/315/nodes.csv',\n",
    "              '5G-Graphs/320/nodes.csv', '5G-Graphs/322/nodes.csv', '5G-Graphs/325/nodes.csv',\n",
    "              '5G-Graphs/330/nodes.csv', '5G-Graphs/334/nodes.csv', '5G-Graphs/345/nodes.csv', \n",
    "              '5G-Graphs/407/nodes.csv', '5G-Graphs/409/nodes.csv', '5G-Graphs/410/nodes.csv',\n",
    "              ]\n",
    "\n",
    "data_5G = []\n",
    "\n",
    "for file_path in file_paths: \n",
    "    df = pd.read_csv(file_path)\n",
    "    data_5G.append(df)"
   ]
  },
  {
   "cell_type": "code",
   "execution_count": 4,
   "metadata": {},
   "outputs": [],
   "source": [
    "file_paths = ['5G-Graphs/63/edges.txt','5G-Graphs/99/edges.txt','5G-Graphs/124/edges.txt',\n",
    "              '5G-Graphs/144/edges.txt','5G-Graphs/157/edges.txt','5G-Graphs/176/edges.txt',\n",
    "              '5G-Graphs/192/edges.txt', '5G-Graphs/203/edges.txt','5G-Graphs/205/edges.txt',\n",
    "              '5G-Graphs/217/edges.txt', '5G-Graphs/220/edges.txt', '5G-Graphs/251/edges.txt',\n",
    "              '5G-Graphs/256/edges.txt', '5G-Graphs/270/edges.txt', '5G-Graphs/275/edges.txt',\n",
    "              '5G-Graphs/283/edges.txt', '5G-Graphs/286/edges.txt', '5G-Graphs/306/edges.txt',\n",
    "              '5G-Graphs/308/edges.txt', '5G-Graphs/313/edges.txt', '5G-Graphs/315/edges.txt',\n",
    "              '5G-Graphs/320/edges.txt', '5G-Graphs/322/edges.txt', '5G-Graphs/325/edges.txt',\n",
    "              '5G-Graphs/330/edges.txt', '5G-Graphs/334/edges.txt', '5G-Graphs/345/edges.txt', \n",
    "              '5G-Graphs/407/edges.txt', '5G-Graphs/409/edges.txt', '5G-Graphs/410/edges.txt',\n",
    "              ]\n",
    "\n",
    "graphs_5G = [] \n",
    "\n",
    "for file_path in file_paths: \n",
    "    G = nx.read_edgelist(file_path, create_using=nx.DiGraph)\n",
    "    graphs_5G.append(G)\n"
   ]
  },
  {
   "cell_type": "code",
   "execution_count": 5,
   "metadata": {},
   "outputs": [],
   "source": [
    "file_paths = ['non-conspiracy/38/nodes.csv', 'non-conspiracy/157/nodes.csv', 'non-conspiracy/241/nodes.csv',\n",
    "              'non-conspiracy/799/nodes.csv', 'non-conspiracy/845/nodes.csv', 'non-conspiracy/847/nodes.csv',\n",
    "              'non-conspiracy/862/nodes.csv','non-conspiracy/898/nodes.csv', 'non-conspiracy/968/nodes.csv',\n",
    "              'non-conspiracy/1002/nodes.csv', 'non-conspiracy/1036/nodes.csv', 'non-conspiracy/1097/nodes.csv',\n",
    "              'non-conspiracy/1520/nodes.csv', 'non-conspiracy/1660/nodes.csv', 'non-conspiracy/1706/nodes.csv',\n",
    "              'non-conspiracy/1886/nodes.csv', 'non-conspiracy/1937/nodes.csv', 'non-conspiracy/1948/nodes.csv',\n",
    "              'non-conspiracy/1950/nodes.csv', 'non-conspiracy/2366/nodes.csv'\n",
    "              ]\n",
    "\n",
    "data_nc = []\n",
    "\n",
    "for file_path in file_paths: \n",
    "    df = pd.read_csv(file_path)\n",
    "    data_nc.append(df)"
   ]
  },
  {
   "cell_type": "code",
   "execution_count": 6,
   "metadata": {},
   "outputs": [],
   "source": [
    "file_paths = ['non-conspiracy/38/edges.txt', 'non-conspiracy/157/edges.txt', 'non-conspiracy/241/edges.txt',\n",
    "              'non-conspiracy/799/edges.txt', 'non-conspiracy/845/edges.txt', 'non-conspiracy/847/edges.txt',\n",
    "              'non-conspiracy/862/edges.txt','non-conspiracy/898/edges.txt', 'non-conspiracy/968/edges.txt',\n",
    "              'non-conspiracy/1002/edges.txt', 'non-conspiracy/1036/edges.txt', 'non-conspiracy/1097/edges.txt',\n",
    "              'non-conspiracy/1520/edges.txt', 'non-conspiracy/1660/edges.txt', 'non-conspiracy/1706/edges.txt',\n",
    "              'non-conspiracy/1886/edges.txt', 'non-conspiracy/1937/edges.txt', 'non-conspiracy/1948/edges.txt',\n",
    "              'non-conspiracy/1950/edges.txt', 'non-conspiracy/2366/edges.txt'\n",
    "              ]\n",
    "\n",
    "graphs_nc = []\n",
    "\n",
    "for file_path in file_paths: \n",
    "    G = nx.read_edgelist(file_path, create_using=nx.DiGraph)\n",
    "    graphs_nc.append(G)"
   ]
  },
  {
   "cell_type": "code",
   "execution_count": 7,
   "metadata": {},
   "outputs": [
    {
     "name": "stdout",
     "output_type": "stream",
     "text": [
      "40.0\n",
      "50.5\n"
     ]
    }
   ],
   "source": [
    "# average number of nodes in 5G subgraphs vs non conspiracy subgraphs\n",
    "\n",
    "node_count_5G = []\n",
    "for G in graphs_5G: \n",
    "    node_count_5G.append(G.number_of_nodes())\n",
    "avg_node_count_5G = np.sum(np.array(node_count_5G))/30 \n",
    "print(avg_node_count_5G)\n",
    "\n",
    "node_count_nc = []\n",
    "for G in graphs_nc: \n",
    "    node_count_nc.append(G.number_of_nodes())\n",
    "avg_node_count_nc = np.sum(np.array(node_count_nc))/20 \n",
    "print(avg_node_count_nc)"
   ]
  },
  {
   "cell_type": "code",
   "execution_count": 8,
   "metadata": {},
   "outputs": [
    {
     "data": {
      "text/plain": [
       "0.1925"
      ]
     },
     "execution_count": 8,
     "metadata": {},
     "output_type": "execute_result"
    }
   ],
   "source": [
    "test = graphs_5G[2]\n",
    "nx.closeness_centrality(test)['21945240']\n",
    "# evec_centrality = list(nx.closeness_centrality(test).values())\n",
    "# evec_centrality\n",
    "nx.clustering(test)\n",
    "nx.average_clustering(test)"
   ]
  },
  {
   "cell_type": "code",
   "execution_count": 9,
   "metadata": {},
   "outputs": [
    {
     "name": "stdout",
     "output_type": "stream",
     "text": [
      "Degree of central node in 5G:  36.06666666666667\n",
      "Closeness Centrality of central node 5G  0.6440675922873644\n",
      "Betweenness Centrality of central node 5G:  0.2776688683335489\n",
      "Avg Degree of 5G:  4.990388287947339\n",
      "Avg Eigenvector Centrality 5G:  0.1267617564177467\n",
      "Avg Pagerank Centrality 5G:  0.048742245429103964\n",
      "Avg Closeness Centrality 5G:  0.24995097303544514\n",
      "Avg Betweenness Centrality 5G:  0.03150682292174991\n",
      "Clustering of central node 5G:  0.05273781550562595\n",
      "Clustering Coeff 5G:  0.22502487515931963\n",
      "\n",
      "Degree of central node in NC:  43.65\n",
      "Closeness Centrality of central node NC  0.6978732375602681\n",
      "Betweenness Centrality of central node NC:  0.19318950069851082\n",
      "Avg Degree of NC:  6.210083445883102\n",
      "Avg Eigenvector Centrality NC:  0.08656017177140514\n",
      "Avg Pagerank Centrality NC:  0.02443837606561381\n",
      "Avg Closeness Centrality NC:  0.2198043404760215\n",
      "Avg Betweenness Centrality NC:  0.016055762824197017\n",
      "Clustering of central node NC:  0.06143456395181409\n",
      "Clustering Coeff NC:  0.225268333771404\n"
     ]
    }
   ],
   "source": [
    "# central node: degree, closeness centrality, betweenness centrality \n",
    "# whole network centralities: degree, eigenvector, pagerank, betweenness, closeness \n",
    "# clustering coefficient: central node and whole network \n",
    "\n",
    "init_degree_5G = []\n",
    "init_closeness_5G = []\n",
    "init_betweeness_5G = []\n",
    "deg_5G = []\n",
    "evec_5G = []\n",
    "pagerank_5G = []\n",
    "betweeness_5G = []\n",
    "closeness_5G = []\n",
    "\n",
    "init_clustering_5G = []\n",
    "clustering_5G = []\n",
    "\n",
    "for i in range(30): \n",
    "    G = graphs_5G[i]\n",
    "\n",
    "    # central node: degree, closeness, betweeness, clustering\n",
    "    G_data = data_5G[i]\n",
    "    temp = G_data[G_data['time']==0]['id']\n",
    "    node = str(temp.iloc[0])\n",
    "    if node in G.nodes:\n",
    "        init_degree_5G.append(G.degree(str(node)))\n",
    "        init_closeness_5G.append(nx.closeness_centrality(G)[node])\n",
    "        init_betweeness_5G.append(nx.betweenness_centrality(G)[node])\n",
    "        init_clustering_5G.append(nx.clustering(G)[node])\n",
    "\n",
    "    # average total degrees \n",
    "    degrees = [b for a,b in G.degree()]\n",
    "    avg_degree = np.sum(np.array(degrees))/len(degrees)\n",
    "    deg_5G.append(avg_degree)\n",
    "\n",
    "    # average evec centralities\n",
    "    evec = list(nx.eigenvector_centrality_numpy(G).values())\n",
    "    avg_evec = np.sum(np.array(evec))/len(evec)\n",
    "    evec_5G.append(avg_evec)\n",
    "    \n",
    "    # pagerank centralities \n",
    "    pr = list(nx.pagerank(G).values())\n",
    "    avg_pr = np.sum(np.array(pr))/len(pr)\n",
    "    pagerank_5G.append(avg_pr)\n",
    "\n",
    "    # closeness centralities\n",
    "    closeness = list(nx.closeness_centrality(G).values())\n",
    "    avg_closeness = np.sum(np.array(closeness))/len(closeness)\n",
    "    closeness_5G.append(avg_closeness)\n",
    "\n",
    "    # betweeness centralities \n",
    "    btwness = list(nx.betweenness_centrality(G).values())\n",
    "    avg_btwness = np.sum(np.array(btwness))/len(btwness)\n",
    "    betweeness_5G.append(avg_btwness) \n",
    "\n",
    "    # clustering \n",
    "    clustering_5G.append(nx.average_clustering(G))\n",
    "\n",
    "avg_init_degree_5G = np.sum(np.array(init_degree_5G))/30 \n",
    "avg_init_closeness_5G = np.sum(np.array(init_closeness_5G))/30 \n",
    "avg_init_betweenness_5G = np.sum(np.array(init_betweeness_5G))/30\n",
    "avg_deg_5G = np.sum(np.array(deg_5G))/30\n",
    "avg_evec_5G = np.sum(np.array(evec_5G))/30\n",
    "avg_pagerank_5G = np.sum(np.array(pagerank_5G))/30\n",
    "avg_closeness_5G = np.sum(np.array(closeness_5G))/30\n",
    "avg_betweenness_5G = np.sum(np.array(betweeness_5G))/30\n",
    "avg_init_clustering_5G = np.sum(np.array(init_clustering_5G))/30\n",
    "avg_clustering_5G = np.sum(np.array(clustering_5G))/30\n",
    "print(\"Degree of central node in 5G: \", avg_init_degree_5G)\n",
    "print(\"Closeness Centrality of central node 5G \", avg_init_closeness_5G)\n",
    "print(\"Betweenness Centrality of central node 5G: \", avg_init_betweenness_5G)\n",
    "print(\"Avg Degree of 5G: \", avg_deg_5G)\n",
    "print(\"Avg Eigenvector Centrality 5G: \", avg_evec_5G)\n",
    "print(\"Avg Pagerank Centrality 5G: \", avg_pagerank_5G)\n",
    "print(\"Avg Closeness Centrality 5G: \", avg_closeness_5G)\n",
    "print(\"Avg Betweenness Centrality 5G: \", avg_betweenness_5G)\n",
    "print(\"Clustering of central node 5G: \", avg_init_clustering_5G)\n",
    "print(\"Clustering Coeff 5G: \", avg_clustering_5G)\n",
    "\n",
    "\n",
    "\n",
    "### NC STARTS BELOW ###\n",
    "\n",
    "init_degree_nc = []\n",
    "init_closeness_nc = []\n",
    "init_betweeness_nc = []\n",
    "deg_nc = []\n",
    "evec_nc = []\n",
    "pagerank_nc = []\n",
    "betweeness_nc = []\n",
    "closeness_nc = []\n",
    "\n",
    "init_clustering_nc = []\n",
    "clustering_nc = []\n",
    "\n",
    "for i in range(20): \n",
    "    G = graphs_nc[i]\n",
    "\n",
    "    # central node: degree, closeness, betweeness\n",
    "    G_data = data_nc[i]\n",
    "    temp = G_data[G_data['time']==0]['id']\n",
    "    node = str(temp.iloc[0])\n",
    "    if node in G.nodes:\n",
    "        init_degree_nc.append(G.degree(str(node)))\n",
    "        init_closeness_nc.append(nx.closeness_centrality(G)[node])\n",
    "        init_betweeness_nc.append(nx.betweenness_centrality(G)[node])\n",
    "        init_clustering_nc.append(nx.clustering(G)[node])\n",
    "\n",
    "    # average total degrees \n",
    "    degrees = [b for a,b in G.degree()]\n",
    "    avg_degree = np.sum(np.array(degrees))/len(degrees)\n",
    "    deg_nc.append(avg_degree)\n",
    "\n",
    "    # average evec centralities\n",
    "    evec = list(nx.eigenvector_centrality_numpy(G).values())\n",
    "    avg_evec = np.sum(np.array(evec))/len(evec)\n",
    "    evec_nc.append(avg_evec)\n",
    "\n",
    "    # pagerank centralities \n",
    "    pr = list(nx.pagerank(G).values())\n",
    "    avg_pr = np.sum(np.array(pr))/len(pr)\n",
    "    pagerank_nc.append(avg_pr)\n",
    "\n",
    "    # closeness centralities\n",
    "    closeness = list(nx.closeness_centrality(G).values())\n",
    "    avg_closeness = np.sum(np.array(closeness))/len(closeness)\n",
    "    closeness_nc.append(avg_closeness)\n",
    "\n",
    "    # betweeness centralities \n",
    "    btwness = list(nx.betweenness_centrality(G).values())\n",
    "    avg_btwness = np.sum(np.array(btwness))/len(btwness)\n",
    "    betweeness_nc.append(avg_btwness)\n",
    "\n",
    "    # clustering \n",
    "    clustering_nc.append(nx.average_clustering(G))\n",
    "\n",
    "avg_init_degree_nc = np.sum(np.array(init_degree_nc))/20 \n",
    "avg_init_closeness_nc = np.sum(np.array(init_closeness_nc))/20\n",
    "avg_init_betweenness_nc = np.sum(np.array(init_betweeness_nc))/20\n",
    "avg_deg_nc = np.sum(np.array(deg_nc))/20 \n",
    "avg_evec_nc = np.sum(np.array(evec_nc))/20\n",
    "avg_pagerank_nc = np.sum(np.array(pagerank_nc))/20\n",
    "avg_closeness_nc = np.sum(np.array(closeness_nc))/20\n",
    "avg_betweenness_nc = np.sum(np.array(betweeness_nc))/20\n",
    "avg_init_clustering_nc = np.sum(np.array(init_clustering_nc))/20\n",
    "avg_clustering_nc = np.sum(np.array(clustering_nc))/20\n",
    "print('')\n",
    "print(\"Degree of central node in NC: \", avg_init_degree_nc)\n",
    "print(\"Closeness Centrality of central node NC \", avg_init_closeness_nc)\n",
    "print(\"Betweenness Centrality of central node NC: \", avg_init_betweenness_nc)\n",
    "print(\"Avg Degree of NC: \", avg_deg_nc)\n",
    "print(\"Avg Eigenvector Centrality NC: \", avg_evec_nc)\n",
    "print(\"Avg Pagerank Centrality NC: \", avg_pagerank_nc)\n",
    "print(\"Avg Closeness Centrality NC: \", avg_closeness_nc)\n",
    "print(\"Avg Betweenness Centrality NC: \", avg_betweenness_nc)\n",
    "print(\"Clustering of central node NC: \", avg_init_clustering_nc)\n",
    "print(\"Clustering Coeff NC: \", avg_clustering_nc)"
   ]
  },
  {
   "cell_type": "code",
   "execution_count": null,
   "metadata": {},
   "outputs": [],
   "source": [
    "# connect time and see if they're correlated to these measures "
   ]
  },
  {
   "cell_type": "code",
   "execution_count": 10,
   "metadata": {},
   "outputs": [
    {
     "data": {
      "image/png": "[encoded data removed]",
      "text/plain": [
       "<Figure size 640x480 with 1 Axes>"
      ]
     },
     "metadata": {},
     "output_type": "display_data"
    }
   ],
   "source": [
    "# Graph eigenvector centralities\n",
    "\n",
    "plt.hist(evec_5G, density=True, bins = 15, alpha = 0.5)\n",
    "plt.hist(evec_nc, density=True, bins = 15, alpha = 0.5)\n",
    "plt.show()\n"
   ]
  },
  {
   "cell_type": "code",
   "execution_count": 14,
   "metadata": {},
   "outputs": [
    {
     "data": {
      "image/png": "[encoded data removed]",
      "text/plain": [
       "<Figure size 640x480 with 1 Axes>"
      ]
     },
     "metadata": {},
     "output_type": "display_data"
    }
   ],
   "source": [
    "# graph betweenness centralities \n",
    "\n",
    "plt.hist(betweeness_5G, density=True, bins = 15, alpha = 0.5, label='5G Conspiracy Tweets')\n",
    "plt.hist(betweeness_nc, density=True, bins = 15, alpha = 0.5, label = 'Non Conspiracy Tweets')\n",
    "plt.xlabel('Betweenness Centrality')\n",
    "plt.ylabel('Frequency')\n",
    "plt.legend()\n",
    "plt.title('Average Betweenness Centrality of 5G Conspiracy and Non-Conspiracy Graphs')\n",
    "plt.show()"
   ]
  },
  {
   "cell_type": "code",
   "execution_count": 12,
   "metadata": {},
   "outputs": [
    {
     "data": {
      "image/png": "[encoded data removed]",
      "text/plain": [
       "<Figure size 640x480 with 1 Axes>"
      ]
     },
     "metadata": {},
     "output_type": "display_data"
    }
   ],
   "source": [
    "# graph clustering coefficient\n",
    "plt.hist(clustering_5G, density=True, bins = 15, alpha = 0.5)\n",
    "plt.hist(clustering_nc, density=True, bins = 15, alpha = 0.5)\n",
    "plt.show()"
   ]
  }
 ],
 "metadata": {
  "kernelspec": {
   "display_name": "base",
   "language": "python",
   "name": "python3"
  },
  "language_info": {
   "codemirror_mode": {
    "name": "ipython",
    "version": 3
   },
   "file_extension": ".py",
   "mimetype": "text/x-python",
   "name": "python",
   "nbconvert_exporter": "python",
   "pygments_lexer": "ipython3",
   "version": "3.12.7"
  }
 },
 "nbformat": 4,
 "nbformat_minor": 2
}
